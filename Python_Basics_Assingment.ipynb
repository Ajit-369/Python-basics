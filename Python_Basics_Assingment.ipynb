{
  "nbformat": 4,
  "nbformat_minor": 0,
  "metadata": {
    "colab": {
      "provenance": []
    },
    "kernelspec": {
      "name": "python3",
      "display_name": "Python 3"
    },
    "language_info": {
      "name": "python"
    }
  },
  "cells": [
    {
      "cell_type": "markdown",
      "source": [
        "1. What is Python, and why is it popular?\n",
        "- Python is a high-level, general-purpose programming language that is easy to read and write. It is used for many things like web development, data analysis, automation, artificial intelligence, and more.\n",
        "\n",
        "Why it is popular:\n",
        "\n",
        "Simple syntax: Easy to learn and understand, even for beginners.\n",
        "\n",
        "It can be used with database as well.\n",
        "\n",
        "Versatile: Can be used for many types of projects.\n",
        "\n",
        "Large community: Lots of support, tutorials, and libraries available.\n",
        "\n",
        "Powerful libraries: Especially useful for data analysis (like Pandas, NumPy, Matplotlib).\n",
        "\n",
        "2. What is an interpreter in Python?\n",
        "- An interpreter in Python is a program that reads and runs Python code line by line. It checks each line of code and executes it immediately.\n",
        "\n",
        "In simple words:\n",
        "The interpreter helps Python understand and run the code you write.\n",
        "\n",
        "Example:\n",
        "When you type a Python program and run it, the interpreter reads it one line at a time and shows the result.\n",
        "\n",
        "3. What are pre-defined keywords in Python?\n",
        "- Pre-defined keywords in Python are special words that have a fixed meaning and are used to write Python code. You cannot use them as variable names.\n",
        "\n",
        "Examples:\n",
        "if, else, for, while, True, False, def, return, import, class, etc.\n",
        "\n",
        "In simple words:\n",
        "These keywords are already built into Python and help in writing commands or logic.\n",
        "\n",
        "4. Can keywords be used as variable names?\n",
        "- No, keywords cannot be used as variable names in Python.\n",
        "\n",
        "Why?\n",
        "Because keywords already have special meanings in Python. Using them as variable names will confuse the interpreter and cause an error.\n",
        "\n",
        "5. What is mutability in Python?\n",
        "- Mutability in Python means whether the value of an object (like a list or string) can be changed after it is created.\n",
        "\n",
        "If an object can be changed, it is mutable.\n",
        "\n",
        "If it cannot be changed, it is immutable.\n",
        "\n",
        "Examples:\n",
        "\n",
        "Mutable: list, dict, set\n",
        "(You can add, remove, or change items.)\n",
        "\n",
        "Immutable: int, float, str, tuple\n",
        "(You cannot change the value once it’s created.)\n",
        "\n",
        "In simple words:\n",
        "Mutability means whether something can be changed or not after making it.\n",
        "\n",
        "6. Why are lists mutable, but tuples are immutable?\n",
        "- Lists are mutable, meaning you can change their content (add, remove, or modify elements) after they are created. This is because lists are designed to be flexible and allow modification.\n",
        "\n",
        "Tuples are immutable, meaning once they are created, you cannot change their content (you can't add, remove, or modify elements). Tuples are designed to be fixed, providing safety for data that should not be altered.\n",
        "\n",
        "Why the difference?\n",
        "\n",
        "Lists are used when you need a collection of items that might change during the program's execution.\n",
        "\n",
        "Tuples are used for data that should stay constant, ensuring that no one can accidentally modify the data.\n",
        "\n",
        "7. What is the difference between “==” and “is” operators in Python?\n",
        "- == (Equality operator):\n",
        "Checks if the values of two variables are the same.\n",
        "\n",
        "Example:\n",
        "\n",
        "a = [1, 2, 3]\n",
        "b = [1, 2, 3]\n",
        "print(a == b)  # True, because values are the same\n",
        "\n",
        "is (Identity operator):\n",
        "Checks if two variables refer to the same object in memory.\n",
        "\n",
        "Example:\n",
        "\n",
        "print(a is b)  # False, because they are different objects in memory\n",
        "In simple words:\n",
        "\n",
        "== checks if two things look the same.\n",
        "\n",
        "is checks if they are the exact same thing in memory.\n",
        "\n",
        "8.  What are logical operators in Python?\n",
        "- Logical operators in Python are used to combine multiple conditions and return True or False based on the logic.\n",
        "\n",
        "There are 3 main logical operators:\n",
        "\n",
        "and Returns True if both conditions are true\n",
        "\n",
        "eg:\n",
        "5 > 2 and 3 < 4  # True\n",
        "or Returns True if at least one condition is true\n",
        "\n",
        "\n",
        "5 > 10 or 3 < 4  # True\n",
        "not Reverses the result (True becomes False, and vice versa)\n",
        "\n",
        "\n",
        "not(5 > 2)  # False\n",
        "In simple words:\n",
        "Logical operators help us make decisions in programs by checking one or more conditions.\n",
        "\n",
        "9. What is type casting in Python?\n",
        "- As comes in word! type stands for datatypes and casting stands for convertion.\n",
        "Type casting in Python means converting one data type into another.\n",
        "\n",
        "Examples:\n",
        "Converting a number to a string:\n",
        "str(100)  # becomes \"100\"\n",
        "\n",
        "10. What is the difference between implicit and explicit type casting?\n",
        "- 1. Implicit Type Casting\n",
        "Done automatically by Python.\n",
        "\n",
        "Happens when Python safely converts one type to another.\n",
        "\n",
        "2.Explicit Type Casting\n",
        "Done manually by the programmer.\n",
        "\n",
        "You write the function to convert the type.\n",
        "\n",
        "Implicit = Python does it by itself.\n",
        "\n",
        "Explicit = You tell Python to do it.\n",
        "\n",
        "In simple words:\n",
        "Python is smart, but not a mind reader. It helps you where it can, but asks for help when it's unsure.\n",
        "\n",
        "11. What is the purpose of conditional statements in Python?\n",
        "- The purpose of conditional statements in Python is to let the program make decisions and run different code based on certain conditions.\n",
        "\n",
        "Common conditional statements:\n",
        "\n",
        "if\n",
        "\n",
        "elif (else if)\n",
        "\n",
        "else\n",
        "\n",
        "Example: age = 18\n",
        "if age >= 18:\n",
        "    print(\"You can vote.\")\n",
        "else:\n",
        "    print(\"You cannot vote.\")\n",
        "\n",
        "In simple words:\n",
        "Conditional statements help Python choose what to do depending on the situation or input.\n",
        "\n",
        "12. How does the elif statement work?\n",
        "- The elif statement in Python stands for \"else if\". It is used to check multiple conditions one after another.\n",
        "\n",
        "How it works:\n",
        "Python checks the first if condition.\n",
        "\n",
        "If it's True, it runs that block and skips the rest.\n",
        "\n",
        "If it's False, it checks the elif condition.\n",
        "\n",
        "You can have many elif conditions.\n",
        "\n",
        "If none are true, the else block (if present) runs.\n",
        "\n",
        "Example:\n",
        "marks = 75\n",
        "\n",
        "if marks >= 90:\n",
        "    print(\"Grade A\")\n",
        "\n",
        "elif marks >= 70:\n",
        "    print(\"Grade B\")\n",
        "\n",
        "else:\n",
        "    print(\"Grade C\")\n",
        "\n",
        "13.  What is the difference between for and while loops?\n",
        "- The difference between for and while loops in Python is in how and when they repeat code.\n",
        "\n",
        "for loop:\n",
        "Used when you know how many times to loop.\n",
        "\n",
        "Often used to go through a sequence (like a list, string, or range).\n",
        "\n",
        "Example:for i in range(5):\n",
        "    print(i)\n",
        "\n",
        "Loops 5 times from 0 to 4.\n",
        "\n",
        "14. Describe a scenario where a while loop is more suitable than a for loop.?\n",
        "- A while loop is more suitable when you dont know in advance how many times the loop should run — you just keep going until a certain condition is met.\n",
        "\n",
        "Example Scenario:\n",
        "\n",
        "Login System:\n",
        "You want a user to enter the correct password. You don't know how many tries it will take, so a while loop is best.\n",
        "\n",
        "password = \" \"\n",
        "\n",
        "while password != \"admin123\":\n",
        "    password = input(\"Enter your password: \")\n",
        "\n",
        "print(\"Access granted!\")\n",
        "\n",
        "Why not for?\n",
        "Because you dont know how many attempts the user will need — it could be 1 or 10. A for loop is for fixed repetitions, but here we need repetition based on a condition, so while is better."
      ],
      "metadata": {
        "id": "7T61TpTZcICE"
      }
    },
    {
      "cell_type": "markdown",
      "source": [
        "# **# practical questions**"
      ],
      "metadata": {
        "id": "dKshaYAUTNy4"
      }
    },
    {
      "cell_type": "code",
      "source": [
        "# 1. Write a Python program to print \"Hello, World!y\n",
        "print(\"Hello, World!\")"
      ],
      "metadata": {
        "colab": {
          "base_uri": "https://localhost:8080/"
        },
        "id": "AiANtosLcLdX",
        "outputId": "7a302bea-3697-4c25-ef99-40ff19e28dad"
      },
      "execution_count": 1,
      "outputs": [
        {
          "output_type": "stream",
          "name": "stdout",
          "text": [
            "Hello, World!\n"
          ]
        }
      ]
    },
    {
      "cell_type": "code",
      "source": [
        "# 2.Write a Python program that displays your name and age.\n",
        "name = \"Ajit Pandey\"\n",
        "age = 23\n",
        "\n",
        "print(\"Name:\", name)\n",
        "print(\"Age:\", age)"
      ],
      "metadata": {
        "colab": {
          "base_uri": "https://localhost:8080/"
        },
        "id": "H3pKHqr5UucO",
        "outputId": "9a0d8087-3883-4c4a-cd02-d48272691d07"
      },
      "execution_count": 2,
      "outputs": [
        {
          "output_type": "stream",
          "name": "stdout",
          "text": [
            "Name: Ajit Pandey\n",
            "Age: 23\n"
          ]
        }
      ]
    },
    {
      "cell_type": "code",
      "source": [
        "# 3.Write code to print all the pre-defined keywords in Python using the keyword library.\n",
        "help(\"keywords\")"
      ],
      "metadata": {
        "colab": {
          "base_uri": "https://localhost:8080/"
        },
        "id": "FMKZ2cZ0V6ef",
        "outputId": "c409d6f4-5055-4cf3-c875-8a3a71574a1a"
      },
      "execution_count": 3,
      "outputs": [
        {
          "output_type": "stream",
          "name": "stdout",
          "text": [
            "\n",
            "Here is a list of the Python keywords.  Enter any keyword to get more help.\n",
            "\n",
            "False               class               from                or\n",
            "None                continue            global              pass\n",
            "True                def                 if                  raise\n",
            "and                 del                 import              return\n",
            "as                  elif                in                  try\n",
            "assert              else                is                  while\n",
            "async               except              lambda              with\n",
            "await               finally             nonlocal            yield\n",
            "break               for                 not                 \n",
            "\n"
          ]
        }
      ]
    },
    {
      "cell_type": "code",
      "source": [
        "# 4.Write a program that checks if a given word is a Python keyword.\n",
        "import keyword\n",
        "\n",
        "# Input word from the user\n",
        "word = input(\"Enter a word: \")\n",
        "\n",
        "# Check if the word is a Python keyword\n",
        "if keyword.iskeyword(word):\n",
        "    print(f\"'{word}' is a Python keyword.\")\n",
        "else:\n",
        "    print(f\"'{word}' is NOT a Python keyword.\")"
      ],
      "metadata": {
        "colab": {
          "base_uri": "https://localhost:8080/"
        },
        "id": "GHFCpmGGXNh8",
        "outputId": "0df264e7-5384-48f6-c5ea-6313964c4cd4"
      },
      "execution_count": 4,
      "outputs": [
        {
          "output_type": "stream",
          "name": "stdout",
          "text": [
            "Enter a word: if\n",
            "'if' is a Python keyword.\n"
          ]
        }
      ]
    },
    {
      "cell_type": "code",
      "source": [
        "'''5.  Create a list and tuple in Python, and demonstrate how attempting to change an element works differently\n",
        "for each.'''\n",
        "# Creating a list\n",
        "my_list = [10, 20, 30]\n",
        "print(\"Original list:\", my_list)\n",
        "\n",
        "# Changing an element in the list\n",
        "my_list[1] = 99\n",
        "print(\"Modified list:\", my_list)\n",
        "\n",
        "# Creating a tuple\n",
        "my_tuple = (10, 20, 30)\n",
        "print(\"Original tuple:\", my_tuple)\n",
        "\n",
        "# Trying to change an element in the tuple (this will cause an error)\n",
        "try:\n",
        "    my_tuple[1] = 99\n",
        "except TypeError as e:\n",
        "    print(\"Error:\", e)"
      ],
      "metadata": {
        "colab": {
          "base_uri": "https://localhost:8080/"
        },
        "id": "Z13tKxKEXlQu",
        "outputId": "3ec0f4cb-76d4-494a-aabc-f8e7186be561"
      },
      "execution_count": 5,
      "outputs": [
        {
          "output_type": "stream",
          "name": "stdout",
          "text": [
            "Original list: [10, 20, 30]\n",
            "Modified list: [10, 99, 30]\n",
            "Original tuple: (10, 20, 30)\n",
            "Error: 'tuple' object does not support item assignment\n"
          ]
        }
      ]
    },
    {
      "cell_type": "code",
      "source": [
        "# 6. Write a function to demonstrate the behavior of mutable and immutable arguments.\n",
        "def test(num, mylist):\n",
        "    num = 99\n",
        "    mylist[0] = 99\n",
        "\n",
        "# Immutable example\n",
        "x = 10\n",
        "# Mutable example\n",
        "y = [1, 2, 3]\n",
        "\n",
        "test(x, y)\n",
        "\n",
        "print(\"x =\", x)       # x stays the same\n",
        "print(\"y =\", y)       # y gets changed"
      ],
      "metadata": {
        "colab": {
          "base_uri": "https://localhost:8080/"
        },
        "id": "5l3K1jcPYmSF",
        "outputId": "1d23c833-629b-46b0-d932-d0f0be1e2fd8"
      },
      "execution_count": 7,
      "outputs": [
        {
          "output_type": "stream",
          "name": "stdout",
          "text": [
            "x = 10\n",
            "y = [99, 2, 3]\n"
          ]
        }
      ]
    },
    {
      "cell_type": "code",
      "source": [
        "# 7.Write a program that performs basic arithmetic operations on two user-input numbers.\n",
        "a = int(input(\"Enter first number: \"))\n",
        "b = int(input(\"Enter second number: \"))\n",
        "\n",
        "print(\"Addition:\", a + b)\n",
        "print(\"Subtraction:\", a - b)\n",
        "print(\"Multiplication:\", a * b)\n",
        "print(\"Division:\", a / b)"
      ],
      "metadata": {
        "colab": {
          "base_uri": "https://localhost:8080/"
        },
        "id": "NkQ17W8Uh9yz",
        "outputId": "b6dade5b-ed20-41ea-ac3e-9baf62d50c82"
      },
      "execution_count": 8,
      "outputs": [
        {
          "output_type": "stream",
          "name": "stdout",
          "text": [
            "Enter first number: 25\n",
            "Enter second number: 50\n",
            "Addition: 75\n",
            "Subtraction: -25\n",
            "Multiplication: 1250\n",
            "Division: 0.5\n"
          ]
        }
      ]
    },
    {
      "cell_type": "code",
      "source": [
        "# 8.Write a program to demonstrate the use of logical operators.\n",
        "a = True\n",
        "b = False\n",
        "\n",
        "print(\"a and b:\", a and b)   # False\n",
        "print(\"a or b:\", a or b)     # True\n",
        "print(\"not a:\", not a)       # False"
      ],
      "metadata": {
        "colab": {
          "base_uri": "https://localhost:8080/"
        },
        "id": "kdUsOSSPjDxx",
        "outputId": "9654ce48-a2ff-42e5-e78b-a5771b4670f7"
      },
      "execution_count": 9,
      "outputs": [
        {
          "output_type": "stream",
          "name": "stdout",
          "text": [
            "a and b: False\n",
            "a or b: True\n",
            "not a: False\n"
          ]
        }
      ]
    },
    {
      "cell_type": "code",
      "source": [
        "# 9.Write a Python program to convert user input from string to integer, float, and boolean types.\n",
        "user_input = input(\"Enter a value: \")\n",
        "\n",
        "# Convert to integer\n",
        "int_value = int(user_input)\n",
        "print(\"Integer:\", int_value)\n",
        "\n",
        "# Convert to float\n",
        "float_value = float(user_input)\n",
        "print(\"Float:\", float_value)\n",
        "\n",
        "# Convert to boolean\n",
        "bool_value = bool(user_input)\n",
        "print(\"Boolean:\", bool_value)"
      ],
      "metadata": {
        "colab": {
          "base_uri": "https://localhost:8080/"
        },
        "id": "Bg0tEPYijb5m",
        "outputId": "f5e006d9-6a19-49d2-c39b-b19a014b824b"
      },
      "execution_count": 10,
      "outputs": [
        {
          "output_type": "stream",
          "name": "stdout",
          "text": [
            "Enter a value: 5\n",
            "Integer: 5\n",
            "Float: 5.0\n",
            "Boolean: True\n"
          ]
        }
      ]
    },
    {
      "cell_type": "code",
      "source": [
        "# 10. Write code to demonstrate type casting with list elements.\n",
        "str_list = [\"1\", \"2\", \"3\"]\n",
        "\n",
        "int_list = []\n",
        "\n",
        "for item in str_list:\n",
        "    int_list.append(int(item))\n",
        "\n",
        "print(\"String list:\", str_list)\n",
        "print(\"Integer list:\", int_list)"
      ],
      "metadata": {
        "colab": {
          "base_uri": "https://localhost:8080/"
        },
        "id": "bpxLX5Stj9d9",
        "outputId": "1558df7e-6146-4239-a704-bf23b8c89be2"
      },
      "execution_count": 11,
      "outputs": [
        {
          "output_type": "stream",
          "name": "stdout",
          "text": [
            "String list: ['1', '2', '3']\n",
            "Integer list: [1, 2, 3]\n"
          ]
        }
      ]
    },
    {
      "cell_type": "code",
      "source": [
        "# 11.Write a program that checks if a number is positive, negative, or zero.\n",
        "#Get user input\n",
        "num = float(input(\"Enter a number: \"))\n",
        "\n",
        "# Check if the number is positive, negative, or zero\n",
        "if num > 0:\n",
        "    print(\"The number is positive.\")\n",
        "elif num < 0:\n",
        "    print(\"The number is negative.\")\n",
        "else:\n",
        "    print(\"The number is zero.\")"
      ],
      "metadata": {
        "colab": {
          "base_uri": "https://localhost:8080/"
        },
        "id": "BL2SZHKKkw4A",
        "outputId": "4ec6f766-1280-4083-ed45-dede19cea51c"
      },
      "execution_count": 13,
      "outputs": [
        {
          "output_type": "stream",
          "name": "stdout",
          "text": [
            "Enter a number: 5\n",
            "The number is positive.\n"
          ]
        }
      ]
    },
    {
      "cell_type": "code",
      "source": [
        "# 12.Write a for loop to print numbers from 1 to 10.\n",
        "for i in range(1, 11):\n",
        "    print(i)"
      ],
      "metadata": {
        "colab": {
          "base_uri": "https://localhost:8080/"
        },
        "id": "3jkbnbCIlNbv",
        "outputId": "a75d3563-5a6b-41b3-8e0b-14fa3fb242bb"
      },
      "execution_count": 14,
      "outputs": [
        {
          "output_type": "stream",
          "name": "stdout",
          "text": [
            "1\n",
            "2\n",
            "3\n",
            "4\n",
            "5\n",
            "6\n",
            "7\n",
            "8\n",
            "9\n",
            "10\n"
          ]
        }
      ]
    },
    {
      "cell_type": "code",
      "source": [
        "# 13.Write a Python program to find the sum of all even numbers between 1 and 50.\n",
        "# Initialize sum variable\n",
        "sum_of_evens = 0\n",
        "\n",
        "# Loop through numbers from 1 to 50\n",
        "for i in range(1, 51):\n",
        "    if i % 2 == 0:  # Check if the number is even\n",
        "        sum_of_evens += i\n",
        "\n",
        "# Print the result\n",
        "print(\"Sum of all even numbers between 1 and 50:\", sum_of_evens)"
      ],
      "metadata": {
        "colab": {
          "base_uri": "https://localhost:8080/"
        },
        "id": "RV6tOTHWlg8x",
        "outputId": "6ee97376-1922-43b6-9de6-3e1049667b14"
      },
      "execution_count": 15,
      "outputs": [
        {
          "output_type": "stream",
          "name": "stdout",
          "text": [
            "Sum of all even numbers between 1 and 50: 650\n"
          ]
        }
      ]
    },
    {
      "cell_type": "code",
      "source": [
        "# 14. Write a program to reverse a string using a while loop\n",
        "# Get input from user\n",
        "text = input(\"Enter a string: \")\n",
        "\n",
        "# Initialize variables\n",
        "reversed_text = \"\"\n",
        "i = len(text) - 1\n",
        "\n",
        "# Loop to reverse the string\n",
        "while i >= 0:\n",
        "    reversed_text += text[i]\n",
        "    i -= 1\n",
        "\n",
        "# Print the reversed string\n",
        "print(\"Reversed string:\", reversed_text)"
      ],
      "metadata": {
        "colab": {
          "base_uri": "https://localhost:8080/"
        },
        "id": "j6rL_O7lmGKJ",
        "outputId": "d3012eac-48cb-4381-9d12-6e90e6657968"
      },
      "execution_count": 16,
      "outputs": [
        {
          "output_type": "stream",
          "name": "stdout",
          "text": [
            "Enter a string: shiv\n",
            "Reversed string: vihs\n"
          ]
        }
      ]
    },
    {
      "cell_type": "code",
      "source": [
        "# 15. Write a Python program to calculate the factorial of a number provided by the user using a while loop.\n",
        "# Ask the user for a number\n",
        "num = int(input(\"Enter a number: \"))\n",
        "\n",
        "# Initialize variables\n",
        "factorial = 1\n",
        "i = 1\n",
        "\n",
        "# Use while loop to calculate factorial\n",
        "while i <= num:\n",
        "    factorial *= i  # same as factorial = factorial * i\n",
        "    i += 1\n",
        "\n",
        "# Show the result\n",
        "print(\"Factorial of\", num, \"is\", factorial)"
      ],
      "metadata": {
        "colab": {
          "base_uri": "https://localhost:8080/"
        },
        "id": "1R7Oe4Mgnnbc",
        "outputId": "fe3752c0-1e3d-4ac5-9a57-c9609ff09d9c"
      },
      "execution_count": 17,
      "outputs": [
        {
          "output_type": "stream",
          "name": "stdout",
          "text": [
            "Enter a number: 9\n",
            "Factorial of 9 is 362880\n"
          ]
        }
      ]
    }
  ]
}